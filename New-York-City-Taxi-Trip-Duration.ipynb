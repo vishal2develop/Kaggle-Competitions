{
  "nbformat": 4,
  "nbformat_minor": 0,
  "metadata": {
    "colab": {
      "name": "Untitled0.ipynb",
      "version": "0.3.2",
      "provenance": [],
      "collapsed_sections": [],
      "include_colab_link": true
    },
    "kernelspec": {
      "name": "python3",
      "display_name": "Python 3"
    }
  },
  "cells": [
    {
      "cell_type": "markdown",
      "metadata": {
        "id": "view-in-github",
        "colab_type": "text"
      },
      "source": [
        "[View in Colaboratory](https://colab.research.google.com/github/vishal2develop/Kaggle-Competitions/blob/master/New-York-City-Taxi-Trip-Duration.ipynb)"
      ]
    },
    {
      "metadata": {
        "id": "T3CK_M7CudP6",
        "colab_type": "text"
      },
      "cell_type": "markdown",
      "source": [
        "# **New York City  Taxi Trip Duration Prediction Challenge**"
      ]
    },
    {
      "metadata": {
        "id": "McKdwJVqvScw",
        "colab_type": "text"
      },
      "cell_type": "markdown",
      "source": [
        "** Installing the necessary dependency to import the dataset from our google drive to this python notebook**\n"
      ]
    },
    {
      "metadata": {
        "id": "zDTqbq39uS8M",
        "colab_type": "code",
        "colab": {}
      },
      "cell_type": "code",
      "source": [
        "!pip install -U -q PyDrive\n",
        "from pydrive.auth import GoogleAuth\n",
        "from pydrive.drive import GoogleDrive\n",
        "from google.colab import auth\n",
        "from oauth2client.client import GoogleCredentials\n",
        "\n",
        "#Data Dependencies\n",
        "import pandas as pd\n",
        "import numpy as np\n",
        "import matplotlib.pyplot as plt\n",
        "#setting parameters for matplot lip to make the figure fit our screen [16,10] is our screen size\n",
        "plt.rcParams['figure.figsize']=[16,10]\n",
        "\n",
        "import seaborn as sns\n",
        "from sklearn.model_selection import train_test_split\n",
        "import xgboost as xgb\n",
        "\n",
        "%matplotlib inline\n",
        "#making sure matplotlib fits inside the screen\n",
        "plt.rcParams['axes.unicode_minus']=False\n",
        "\n"
      ],
      "execution_count": 0,
      "outputs": []
    },
    {
      "metadata": {
        "id": "0DDTEJZHvwkc",
        "colab_type": "code",
        "colab": {}
      },
      "cell_type": "code",
      "source": [
        "#Authenticate\n",
        "auth.authenticate_user()\n",
        "gauth=GoogleAuth()\n",
        "gauth.credentials=GoogleCredentials.get_application_default()\n",
        "drive=GoogleDrive(gauth)\n"
      ],
      "execution_count": 0,
      "outputs": []
    },
    {
      "metadata": {
        "id": "qBPIZR9U2ep1",
        "colab_type": "code",
        "colab": {
          "base_uri": "https://localhost:8080/",
          "height": 213
        },
        "outputId": "86d43355-9ad7-4812-9bd3-ca9288fb30de"
      },
      "cell_type": "code",
      "source": [
        "#importing the training & testing data from Google drive\n",
        "train_downloaded=drive.CreateFile({'id': '1-FMAlfiE9eNbidqRHByTokXwg7kvX1mT'})\n",
        "train_downloaded.GetContentFile('train.csv')\n",
        "test_downloaded=drive.CreateFile({'id': '1fX1vikjUc1AvVMAmlhWclhGa-eunlEvJ'})\n",
        "test_downloaded.GetContentFile('test.csv')\n",
        "\n",
        "#Loading the dataset using pandas\n",
        "df_train=pd.read_csv('train.csv')\n",
        "df_test=pd.read_csv('test.csv')\n",
        "\n",
        "df_train.head(3)\n",
        "\n",
        "\n"
      ],
      "execution_count": 45,
      "outputs": [
        {
          "output_type": "execute_result",
          "data": {
            "text/html": [
              "<div>\n",
              "<style scoped>\n",
              "    .dataframe tbody tr th:only-of-type {\n",
              "        vertical-align: middle;\n",
              "    }\n",
              "\n",
              "    .dataframe tbody tr th {\n",
              "        vertical-align: top;\n",
              "    }\n",
              "\n",
              "    .dataframe thead th {\n",
              "        text-align: right;\n",
              "    }\n",
              "</style>\n",
              "<table border=\"1\" class=\"dataframe\">\n",
              "  <thead>\n",
              "    <tr style=\"text-align: right;\">\n",
              "      <th></th>\n",
              "      <th>id</th>\n",
              "      <th>vendor_id</th>\n",
              "      <th>pickup_datetime</th>\n",
              "      <th>dropoff_datetime</th>\n",
              "      <th>passenger_count</th>\n",
              "      <th>pickup_longitude</th>\n",
              "      <th>pickup_latitude</th>\n",
              "      <th>dropoff_longitude</th>\n",
              "      <th>dropoff_latitude</th>\n",
              "      <th>store_and_fwd_flag</th>\n",
              "      <th>trip_duration</th>\n",
              "    </tr>\n",
              "  </thead>\n",
              "  <tbody>\n",
              "    <tr>\n",
              "      <th>0</th>\n",
              "      <td>id2875421</td>\n",
              "      <td>2</td>\n",
              "      <td>2016-03-14 17:24:55</td>\n",
              "      <td>2016-03-14 17:32:30</td>\n",
              "      <td>1</td>\n",
              "      <td>-73.982155</td>\n",
              "      <td>40.767937</td>\n",
              "      <td>-73.964630</td>\n",
              "      <td>40.765602</td>\n",
              "      <td>N</td>\n",
              "      <td>455</td>\n",
              "    </tr>\n",
              "    <tr>\n",
              "      <th>1</th>\n",
              "      <td>id2377394</td>\n",
              "      <td>1</td>\n",
              "      <td>2016-06-12 00:43:35</td>\n",
              "      <td>2016-06-12 00:54:38</td>\n",
              "      <td>1</td>\n",
              "      <td>-73.980415</td>\n",
              "      <td>40.738564</td>\n",
              "      <td>-73.999481</td>\n",
              "      <td>40.731152</td>\n",
              "      <td>N</td>\n",
              "      <td>663</td>\n",
              "    </tr>\n",
              "    <tr>\n",
              "      <th>2</th>\n",
              "      <td>id3858529</td>\n",
              "      <td>2</td>\n",
              "      <td>2016-01-19 11:35:24</td>\n",
              "      <td>2016-01-19 12:10:48</td>\n",
              "      <td>1</td>\n",
              "      <td>-73.979027</td>\n",
              "      <td>40.763939</td>\n",
              "      <td>-74.005333</td>\n",
              "      <td>40.710087</td>\n",
              "      <td>N</td>\n",
              "      <td>2124</td>\n",
              "    </tr>\n",
              "  </tbody>\n",
              "</table>\n",
              "</div>"
            ],
            "text/plain": [
              "          id  vendor_id      pickup_datetime     dropoff_datetime  \\\n",
              "0  id2875421          2  2016-03-14 17:24:55  2016-03-14 17:32:30   \n",
              "1  id2377394          1  2016-06-12 00:43:35  2016-06-12 00:54:38   \n",
              "2  id3858529          2  2016-01-19 11:35:24  2016-01-19 12:10:48   \n",
              "\n",
              "   passenger_count  pickup_longitude  pickup_latitude  dropoff_longitude  \\\n",
              "0                1        -73.982155        40.767937         -73.964630   \n",
              "1                1        -73.980415        40.738564         -73.999481   \n",
              "2                1        -73.979027        40.763939         -74.005333   \n",
              "\n",
              "   dropoff_latitude store_and_fwd_flag  trip_duration  \n",
              "0         40.765602                  N            455  \n",
              "1         40.731152                  N            663  \n",
              "2         40.710087                  N           2124  "
            ]
          },
          "metadata": {
            "tags": []
          },
          "execution_count": 45
        }
      ]
    },
    {
      "metadata": {
        "id": "nkrpKpm9vU_d",
        "colab_type": "code",
        "colab": {
          "base_uri": "https://localhost:8080/",
          "height": 204
        },
        "outputId": "875d4061-8cf8-411f-e862-e0381013119a"
      },
      "cell_type": "code",
      "source": [
        "train_data=df_train.drop(['store_and_fwd_flag'],axis=1)\n",
        "test_data=df_test.drop(['store_and_fwd_flag'],axis=1)\n",
        "#train_data.head()\n",
        "test_data.head()"
      ],
      "execution_count": 43,
      "outputs": [
        {
          "output_type": "execute_result",
          "data": {
            "text/html": [
              "<div>\n",
              "<style scoped>\n",
              "    .dataframe tbody tr th:only-of-type {\n",
              "        vertical-align: middle;\n",
              "    }\n",
              "\n",
              "    .dataframe tbody tr th {\n",
              "        vertical-align: top;\n",
              "    }\n",
              "\n",
              "    .dataframe thead th {\n",
              "        text-align: right;\n",
              "    }\n",
              "</style>\n",
              "<table border=\"1\" class=\"dataframe\">\n",
              "  <thead>\n",
              "    <tr style=\"text-align: right;\">\n",
              "      <th></th>\n",
              "      <th>id</th>\n",
              "      <th>vendor_id</th>\n",
              "      <th>pickup_datetime</th>\n",
              "      <th>passenger_count</th>\n",
              "      <th>pickup_longitude</th>\n",
              "      <th>pickup_latitude</th>\n",
              "      <th>dropoff_longitude</th>\n",
              "      <th>dropoff_latitude</th>\n",
              "    </tr>\n",
              "  </thead>\n",
              "  <tbody>\n",
              "    <tr>\n",
              "      <th>0</th>\n",
              "      <td>id3004672</td>\n",
              "      <td>1</td>\n",
              "      <td>2016-06-30 23:59:58</td>\n",
              "      <td>1</td>\n",
              "      <td>-73.988129</td>\n",
              "      <td>40.732029</td>\n",
              "      <td>-73.990173</td>\n",
              "      <td>40.756680</td>\n",
              "    </tr>\n",
              "    <tr>\n",
              "      <th>1</th>\n",
              "      <td>id3505355</td>\n",
              "      <td>1</td>\n",
              "      <td>2016-06-30 23:59:53</td>\n",
              "      <td>1</td>\n",
              "      <td>-73.964203</td>\n",
              "      <td>40.679993</td>\n",
              "      <td>-73.959808</td>\n",
              "      <td>40.655403</td>\n",
              "    </tr>\n",
              "    <tr>\n",
              "      <th>2</th>\n",
              "      <td>id1217141</td>\n",
              "      <td>1</td>\n",
              "      <td>2016-06-30 23:59:47</td>\n",
              "      <td>1</td>\n",
              "      <td>-73.997437</td>\n",
              "      <td>40.737583</td>\n",
              "      <td>-73.986160</td>\n",
              "      <td>40.729523</td>\n",
              "    </tr>\n",
              "    <tr>\n",
              "      <th>3</th>\n",
              "      <td>id2150126</td>\n",
              "      <td>2</td>\n",
              "      <td>2016-06-30 23:59:41</td>\n",
              "      <td>1</td>\n",
              "      <td>-73.956070</td>\n",
              "      <td>40.771900</td>\n",
              "      <td>-73.986427</td>\n",
              "      <td>40.730469</td>\n",
              "    </tr>\n",
              "    <tr>\n",
              "      <th>4</th>\n",
              "      <td>id1598245</td>\n",
              "      <td>1</td>\n",
              "      <td>2016-06-30 23:59:33</td>\n",
              "      <td>1</td>\n",
              "      <td>-73.970215</td>\n",
              "      <td>40.761475</td>\n",
              "      <td>-73.961510</td>\n",
              "      <td>40.755890</td>\n",
              "    </tr>\n",
              "  </tbody>\n",
              "</table>\n",
              "</div>"
            ],
            "text/plain": [
              "          id  vendor_id      pickup_datetime  passenger_count  \\\n",
              "0  id3004672          1  2016-06-30 23:59:58                1   \n",
              "1  id3505355          1  2016-06-30 23:59:53                1   \n",
              "2  id1217141          1  2016-06-30 23:59:47                1   \n",
              "3  id2150126          2  2016-06-30 23:59:41                1   \n",
              "4  id1598245          1  2016-06-30 23:59:33                1   \n",
              "\n",
              "   pickup_longitude  pickup_latitude  dropoff_longitude  dropoff_latitude  \n",
              "0        -73.988129        40.732029         -73.990173         40.756680  \n",
              "1        -73.964203        40.679993         -73.959808         40.655403  \n",
              "2        -73.997437        40.737583         -73.986160         40.729523  \n",
              "3        -73.956070        40.771900         -73.986427         40.730469  \n",
              "4        -73.970215        40.761475         -73.961510         40.755890  "
            ]
          },
          "metadata": {
            "tags": []
          },
          "execution_count": 43
        }
      ]
    },
    {
      "metadata": {
        "id": "_Rctry7DHTo0",
        "colab_type": "code",
        "colab": {
          "base_uri": "https://localhost:8080/",
          "height": 279
        },
        "outputId": "862458d1-e232-49a0-985d-fff7b2d6019d"
      },
      "cell_type": "code",
      "source": [
        "#Data preprocessing\n",
        "#Our Aim is to predict the pickup duration\n",
        "#Let's start with visualizing the average duration\n",
        "\n",
        "#how long is the average trip\n",
        "#we use numpy's log function to regularize the trip_duration feature so it is\n",
        "#easier to visualize\n",
        "#We add +1, to ensure that it doesn't overshoot the graph\n",
        "\n",
        "\n",
        "\n",
        "train_data['log_trip_duration']=np.log(train_data['trip_duration'].values +1)\n",
        "plt.hist(train_data['log_trip_duration'].values, bins=500)\n",
        "plt.xlabel('log(trip_duration)')\n",
        "plt.ylabel('number of training records')\n",
        "plt.show()\n",
        "\n",
        " \n"
      ],
      "execution_count": 46,
      "outputs": [
        {
          "output_type": "display_data",
          "data": {
            "image/png": "[encoded data removed]",
            "text/plain": [
              "<matplotlib.figure.Figure at 0x7f63ea150e48>"
            ]
          },
          "metadata": {
            "tags": []
          }
        }
      ]
    },
    {
      "metadata": {
        "id": "Acj5puKBYfTd",
        "colab_type": "text"
      },
      "cell_type": "markdown",
      "source": [
        "Extra: Mean is around 6.4 by observation"
      ]
    },
    {
      "metadata": {
        "id": "gU-oZIUvUkzU",
        "colab_type": "text"
      },
      "cell_type": "markdown",
      "source": [
        "# Why did i use log?\n",
        "\n",
        "**Logarithms are a great way to  measure the relationship between different points in a dataset**\n",
        "\n",
        "**Logarithms follow a curve, i.e; The output graph will be a curve**\n",
        "\n",
        "**What is more important  is that, in large datasets where data points are far spread apart, it is difficult to see patterns that exist between them**\n",
        "\n",
        "**When we use the log(), it condeses the data and we can see that the datapoints are closely bounded rather than spread apart **\n",
        "\n",
        "**Thus, we can visualize the data in a better easily understandable way**\n",
        "\n",
        "\n",
        "\n",
        "\n"
      ]
    },
    {
      "metadata": {
        "id": "QnZpwDLuTIHh",
        "colab_type": "code",
        "colab": {
          "base_uri": "https://localhost:8080/",
          "height": 265
        },
        "outputId": "e477bf84-01bd-433b-f057-3290afa7950f"
      },
      "cell_type": "code",
      "source": [
        "#Plot out training & testing data\n",
        "#Though we dont have a map of New York City, if we have enough data theoritcially we can plot the map of NYC using the data points\n",
        "N=10000\n",
        "city_long_border=(-75,-75)\n",
        "city_lat_border=(40,40)\n",
        "\n",
        "fig,ax=plt.subplots(ncols=2,sharex=True, sharey=True)\n",
        "ax[0].scatter(train_data['pickup_longitude'].values[:N],\n",
        "             train_data['pickup_latitude'].values[:N],\n",
        "             color='blue',s=1,label='train',alpha=0.1)\n",
        "\n",
        "# Where s=1, suggests that it is a one dimensional graph \n",
        "ax[1].scatter(train_data['pickup_longitude'].values[:N],\n",
        "             train_data['pickup_latitude'].values[:N],\n",
        "             color='green',s=1,label='test',alpha=0.1)\n",
        "              \n",
        "plt.show()\n",
        "\n"
      ],
      "execution_count": 47,
      "outputs": [
        {
          "output_type": "display_data",
          "data": {
            "image/png": "[encoded data removed]",
            "text/plain": [
              "<matplotlib.figure.Figure at 0x7f63e9f8fdd8>"
            ]
          },
          "metadata": {
            "tags": []
          }
        }
      ]
    },
    {
      "metadata": {
        "id": "lL-fDgnab1Js",
        "colab_type": "text"
      },
      "cell_type": "markdown",
      "source": [
        "**We actually made manhattan using the data points**\n",
        "\n",
        "**On the left is our training data and on the right is our testing data**\n",
        "\n",
        "# This is what manhattan really looks like on world map\n",
        "\n",
        "![alt text](https://static.vecteezy.com/system/resources/previews/000/141/713/non_2x/manhattan-map-vector-illustration.png)\n"
      ]
    },
    {
      "metadata": {
        "id": "-fo50HIGactb",
        "colab_type": "code",
        "colab": {},
        "cellView": "both"
      },
      "cell_type": "code",
      "source": [
        "#@title\n",
        " #Training the model\n",
        "  feature_names=list(train_data.columns)\n",
        "  y=train_data['trip_duration'].as_matrix()\n",
        "  x_train,x_test,y_train,y_test=train_test_split(train_data[feature_names].as_matrix(),y,test_size=0.2,random_state=42)\n",
        "  \n",
        "  model=xgb.train('default',train_data)\n",
        "  \n",
        "  "
      ],
      "execution_count": 0,
      "outputs": []
    },
    {
      "metadata": {
        "id": "2jUYDedUm31i",
        "colab_type": "code",
        "colab": {}
      },
      "cell_type": "code",
      "source": [
        ""
      ],
      "execution_count": 0,
      "outputs": []
    }
  ]
}